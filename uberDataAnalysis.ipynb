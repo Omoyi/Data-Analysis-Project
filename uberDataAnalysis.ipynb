{
 "cells": [
  {
   "cell_type": "code",
   "execution_count": null,
   "id": "e24db228",
   "metadata": {},
   "outputs": [
    {
     "name": "stdout",
     "output_type": "stream",
     "text": [
      "0\n"
     ]
    }
   ],
   "source": [
    "import pandas as pd\n",
    "\n",
    "#1. A,B,and C\n",
    "\n",
    "#Loading the dataset into a data frame variable called dataFrame\n",
    "dataFrame = pd.read_csv('uber.csv')\n",
    "#Testing if it is well loaded\n",
    "print(dataFrame.head())\n",
    "#Checking the column names and data types\n",
    "print(dataFrame.dtypes)\n",
    "#Checking the rows and columns\n",
    "print(dataFrame.shape)\n",
    "#Checking how many null cells there are\n",
    "print(dataFrame.isnull().sum())\n",
    "#Checking how many duplicates there are\n",
    "print(dataFrame.duplicated().sum())\n",
    "#Checking the statistical standpoint of the dataset\n",
    "print(dataFrame.describe())"
   ]
  },
  {
   "cell_type": "code",
   "execution_count": null,
   "id": "508d2be5",
   "metadata": {},
   "outputs": [
    {
     "name": "stdout",
     "output_type": "stream",
     "text": [
      "Unnamed: 0           0\n",
      "key                  0\n",
      "fare_amount          0\n",
      "pickup_datetime      0\n",
      "pickup_longitude     0\n",
      "pickup_latitude      0\n",
      "dropoff_longitude    0\n",
      "dropoff_latitude     0\n",
      "passenger_count      0\n",
      "dtype: int64\n",
      "         Unnamed: 0    fare_amount  pickup_longitude  pickup_latitude  \\\n",
      "count  1.992690e+05  199269.000000     199269.000000    199269.000000   \n",
      "mean   2.771565e+07      11.369419        -72.530120        39.937186   \n",
      "std    1.601415e+07       9.905852         11.434205         7.723661   \n",
      "min    1.000000e+00       0.010000      -1340.648410       -74.015515   \n",
      "25%    1.382629e+07       6.000000        -73.992065        40.734796   \n",
      "50%    2.775601e+07       8.500000        -73.981825        40.752584   \n",
      "75%    4.155969e+07      12.500000        -73.967160        40.767157   \n",
      "max    5.542357e+07     499.000000         57.418457      1644.421482   \n",
      "\n",
      "       dropoff_longitude  dropoff_latitude  passenger_count  \n",
      "count      199269.000000     199269.000000    199269.000000  \n",
      "mean          -72.528149         39.925354         1.690474  \n",
      "std            13.119015          6.794146         1.384784  \n",
      "min         -3356.666300       -881.985513         1.000000  \n",
      "25%           -73.991410         40.733828         1.000000  \n",
      "50%           -73.980095         40.753042         1.000000  \n",
      "75%           -73.963664         40.767995         2.000000  \n",
      "max          1153.572603        872.697628       208.000000  \n"
     ]
    }
   ],
   "source": [
    "#1.D & E\n",
    "\n",
    "\"\"\"\n",
    "I found 0 duplicats but only have 2 missing values in 2 columns(dropoff longitude & latitude) from a 200,000 data pull. \n",
    "I think it makes more sense to just delete the missing values, because losing 2 rows can not affect much.\n",
    "\"\"\"\n",
    "dataFrame.dropna(inplace=True)\n",
    "#Checking if the 2 missing columns where deleted successfully\n",
    "print(dataFrame.isna().sum())\n",
    "#Checking fo r\n",
    "\n",
    "\"\"\"\n",
    "Checking the columns I noticed that dates don't have the right data type. To fix that I am going to change the pickup date\n",
    "columns' datatypes to Pandas datatype: to_datetime\n",
    "\"\"\"\n",
    "dataFrame['pickup_datetime'] = pd.to_datetime(dataFrame['pickup_datetime'])\n",
    "\n",
    "\"\"\"\n",
    "In the first question when I run the statistical standpoint of the uber dataset: \n",
    "1.I notice the minimum fare is negative, to my thinking this is wrong because money can not be negative. \n",
    "2.I notice that the passenger count's minimum is 0 which doesn't make sense because atleast 1 person is\n",
    "required to hail the uber.\n",
    "\n",
    "Conclusion: I fixed this by using the boolean mask to filter those odd values out.\n",
    "\"\"\"\n",
    "\n",
    "dataFrame = dataFrame[(dataFrame['fare_amount'] > 0) & (dataFrame['passenger_count'] >= 1)]\n",
    "#Checking if the minimum values have changed for both columns to reasonable values\n",
    "print(dataFrame.describe())\n",
    "#Exporting the cleaned dataset into a new CSV file.\n",
    "dataFrame.to_csv('clean_uber.csv', index=False)"
   ]
  },
  {
   "cell_type": "code",
   "execution_count": 37,
   "id": "80afff83",
   "metadata": {},
   "outputs": [
    {
     "name": "stdout",
     "output_type": "stream",
     "text": [
      "0                1\n",
      "1               45\n",
      "2               48\n",
      "3              243\n",
      "4              335\n",
      "            ...   \n",
      "199264    55421687\n",
      "199265    55421949\n",
      "199266    55422851\n",
      "199267    55422902\n",
      "199268    55423567\n",
      "Name: Unnamed: 0, Length: 199269, dtype: int64\n",
      "0    0.0\n",
      "Name: dropoff_latitude, dtype: float64\n",
      "0    0.0\n",
      "Name: dropoff_longitude, dtype: float64\n",
      "0    6.5\n",
      "Name: fare_amount, dtype: float64\n",
      "0         2009-01-01 01:15:22.0000006\n",
      "1         2009-01-01 01:59:17.0000001\n",
      "2         2009-01-01 02:05:03.0000003\n",
      "3         2009-01-01 02:09:13.0000003\n",
      "4         2009-01-01 02:13:41.0000001\n",
      "                     ...             \n",
      "199264    2015-06-30 22:57:53.0000005\n",
      "199265    2015-06-30 23:16:42.0000002\n",
      "199266    2015-06-30 23:31:06.0000002\n",
      "199267    2015-06-30 23:33:33.0000002\n",
      "199268    2015-06-30 23:40:39.0000001\n",
      "Name: key, Length: 199269, dtype: object\n",
      "0    1\n",
      "Name: passenger_count, dtype: int64\n",
      "0   2009-02-12 12:46:00+00:00\n",
      "1   2010-03-14 12:00:00+00:00\n",
      "2   2014-04-13 18:19:00+00:00\n",
      "Name: pickup_datetime, dtype: datetime64[ns, UTC]\n",
      "0    0.0\n",
      "Name: pickup_latitude, dtype: float64\n",
      "0    0.0\n",
      "Name: pickup_longitude, dtype: float64\n"
     ]
    }
   ],
   "source": [
    "\"\"\"\n",
    "After using the describe() method I already found the mean, standard deviation, quartiles, and median.\n",
    "I am missing the mode so I will calculate it individually for all columns\n",
    "\"\"\"\n",
    "print(dataFrame['Unnamed: 0'].mode())\n",
    "print(dataFrame['dropoff_latitude'].mode())\n",
    "print(dataFrame['dropoff_longitude'].mode())\n",
    "print(dataFrame['fare_amount'].mode())\n",
    "print(dataFrame['key'].mode())\n",
    "print(dataFrame['passenger_count'].mode())\n",
    "print(dataFrame['pickup_datetime'].mode())\n",
    "print(dataFrame['pickup_latitude'].mode())\n",
    "print(dataFrame['pickup_longitude'].mode())"
   ]
  },
  {
   "cell_type": "code",
   "execution_count": null,
   "id": "7361b1bc",
   "metadata": {},
   "outputs": [],
   "source": []
  }
 ],
 "metadata": {
  "kernelspec": {
   "display_name": "Python 3",
   "language": "python",
   "name": "python3"
  },
  "language_info": {
   "codemirror_mode": {
    "name": "ipython",
    "version": 3
   },
   "file_extension": ".py",
   "mimetype": "text/x-python",
   "name": "python",
   "nbconvert_exporter": "python",
   "pygments_lexer": "ipython3",
   "version": "3.13.5"
  }
 },
 "nbformat": 4,
 "nbformat_minor": 5
}
